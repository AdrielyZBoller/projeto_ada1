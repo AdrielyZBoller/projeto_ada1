{
  "nbformat": 4,
  "nbformat_minor": 0,
  "metadata": {
    "colab": {
      "provenance": [],
      "include_colab_link": true
    },
    "kernelspec": {
      "name": "python3",
      "display_name": "Python 3"
    },
    "language_info": {
      "name": "python"
    }
  },
  "cells": [
    {
      "cell_type": "markdown",
      "metadata": {
        "id": "view-in-github",
        "colab_type": "text"
      },
      "source": [
        "<a href=\"https://colab.research.google.com/github/rtmazzeo/projeto_ada1/blob/main/Rascunho_Projeto.ipynb\" target=\"_parent\"><img src=\"https://colab.research.google.com/assets/colab-badge.svg\" alt=\"Open In Colab\"/></a>"
      ]
    },
    {
      "cell_type": "markdown",
      "source": [
        "##**Adriely**"
      ],
      "metadata": {
        "id": "EsDaeYDyIJlD"
      }
    },
    {
      "cell_type": "markdown",
      "source": [
        "- Também acho que seria interessante fazer códigos separados para editar,remover e add, mas acabei fazendo tudo junto kkkk\n",
        "> comentário da Amanda: Podemos fazer junto por agora, depois de tudo funcionando, fazemos essa e outras 'lapidações' (se der tempo)\n",
        "\n",
        "- Acho que seria interessante fazer dois códigos separados. Um que sobre a gestão do restaurante. Parte de add, remover e editar.\n",
        "\n",
        "- Na outra as funcionalidades adicionais que envolve geração de pedidos, tempo de entrega."
      ],
      "metadata": {
        "id": "mOMrnZgnIKhM"
      }
    },
    {
      "cell_type": "code",
      "source": [
        "## Como esta sem a lista eu coloquei pass para não dar erro no codigo\n",
        "# Podemos colocarum while para perguntar se deseja fazer outra ação\n",
        "# Acho que o codigo da gestão de cardapio seja parecida\n",
        "comando = input(\"\"\"Qual ação deseja realizar?\n",
        "Para adicionar um restaurante  --- A\n",
        "Para remover um restaurante    --- R\n",
        "Para editar informações        --- E\"\"\").upper()\n",
        "\n",
        "def gestao_restaurante(comando):\n",
        "\n",
        "  if comando == \"A\":\n",
        "    lista1 = []\n",
        "    restaurante = input('Digite o nome do restaurante: ')\n",
        "    lista1.append(restaurante)\n",
        "\n",
        "    endereco = input('Digite endereço completo do restaurante: ')\n",
        "    lista1.append(endereco)\n",
        "\n",
        "    telefone = int(input('Digite o telefone do restaurante: '))\n",
        "    lista1.append(telefone)\n",
        "\n",
        "    tempo_preparo_pedido = float(input('Digite tempo de preparo do pedido: '))\n",
        "    lista1.append(tempo_preparo_pedido)\n",
        "    print(lista1)\n",
        "    lista.append(lista1)\n",
        "    print(lista)\n",
        "    pass\n",
        "\n",
        "\n",
        "  elif comando == \"R\":\n",
        "    remover = input(\"\"\"Qual restaurante deseja remover?\"\"\")\n",
        "    for restaurante in lista:\n",
        "      if remover == restaurante[0]:\n",
        "        lista.remove(restaurante)\n",
        "    # Para remover o restaurante pensei em fazer um for. Precisaria da lista com os dados para testar\n",
        "    # Testei separado e deu certo, vou colocar em outra célula\n",
        "    pass\n",
        "\n",
        "  elif comando == 'E':\n",
        "    editar = input('Qual restaurante deseja editar?')\n",
        "\n",
        "    pergunta = input(\"\"\"O que deseja editar?\n",
        "      nome                       --- N\n",
        "      endereço                   --- E\n",
        "      telefone                   --- T\n",
        "      tempo de preparo do pedido --- P\n",
        "                                            \"\"\")\n",
        "    for restaurante in lista:\n",
        "      if restaurante[0] == editar:\n",
        "        if pergunta == \"N\":\n",
        "          nome = input('Qual o novo nome? ')\n",
        "          restaurante[0] = nome\n",
        "          print(lista)\n",
        "\n",
        "        elif pergunta == \"E\":\n",
        "          endereço = input('Qual o novo endereço? ')\n",
        "          restaurante[1] = endereço\n",
        "          print(lista)\n",
        "\n",
        "        elif pergunta == \"T\":\n",
        "          telefone = input('Qual o novo telefone? ')\n",
        "          restaurante[2] = telefone\n",
        "          print(lista)\n",
        "\n",
        "        elif pergunta == \"P\":\n",
        "          tempo = input('Qual o novo tempo de preparo do pedido? ')\n",
        "          restaurante[3] = tempo\n",
        "          print(lista)\n",
        "\n",
        "        else:\n",
        "          print('Função inválida')\n",
        "          pass\n",
        "\n",
        "  else:\n",
        "    print(\"\"\"Comando inválido!\n",
        "    Tente Novamente\"\"\")\n",
        "   # Repetir o comando\n",
        "\n",
        "gestao_restaurante(comando)"
      ],
      "metadata": {
        "id": "_NF5NSI4IMuM"
      },
      "execution_count": null,
      "outputs": []
    },
    {
      "cell_type": "markdown",
      "source": [
        "+ Para calcular tempo médio para entrega\n",
        "\n",
        "*Pensei em fazer um input que a pessoa digita a distancia e a partir disso calcula o tempo de entrega*"
      ],
      "metadata": {
        "id": "akcFdChMIQMJ"
      }
    },
    {
      "cell_type": "code",
      "source": [
        "# Podemos pensar em add o nome do restaurante no input\n",
        "distancia = float(input(\"Qual a distância da sua casa até o restaurante x?\"))\n",
        "\n",
        "def tempo_entrega(distancia):\n",
        "\n",
        "  if distancia > 10: #Coloquei uma condição para realizar a entrega.\n",
        "    print('Infelizmente não entregamos para essa região.')\n",
        "  else:\n",
        "    tempo_para_entrega = (distancia/50)*60 # Coloquei que a velocidade media que demora para entrega é 50km/h\n",
        "    print(f\"O tempo para seu pedido ser entregue é de {tempo_para_entrega} minutos.\")\n",
        "    print(f'Obrigada por fazer pedido conosco.')\n",
        "\n",
        "\n",
        "tempo_entrega(distancia)"
      ],
      "metadata": {
        "id": "f1eLVVBiIPrt"
      },
      "execution_count": null,
      "outputs": []
    },
    {
      "cell_type": "markdown",
      "source": [
        "--Teste do remover"
      ],
      "metadata": {
        "id": "szX_4bghIWEe"
      }
    },
    {
      "cell_type": "code",
      "source": [
        "lista = [['nome1', 'tel1', 'temp1'],['nome2', 'tel2', 'temp2'] ,['nome3', 'tel3', 'temp3'] ]\n",
        "\n",
        "comando = input(\"\"\"Qual ação deseja realizar?\n",
        "Para adicionar um restaurante  --- A\n",
        "Para remover um restaurante    --- R\n",
        "Para editar informações        --- E\"\"\").upper()\n",
        "\n",
        "if comando == \"R\":\n",
        "  remover = input(\"Qual restaurante deseja remover?\")\n",
        "  for restaurante in lista:\n",
        "    if remover == restaurante[0]:\n",
        "        lista.remove(restaurante)\n",
        "\n",
        "  print(lista)"
      ],
      "metadata": {
        "id": "qtpB9xpZIXms"
      },
      "execution_count": null,
      "outputs": []
    },
    {
      "cell_type": "markdown",
      "source": [
        "*texto em itálico*-- Teste Adicionar"
      ],
      "metadata": {
        "id": "hzcbw56cIZs7"
      }
    },
    {
      "cell_type": "code",
      "source": [
        "lista = [['nome1', 'tel1', 'temp1'],['nome2', 'tel2', 'temp2'] ,['nome3', 'tel3', 'temp3'] ]\n",
        "\n",
        "comando = input(\"\"\"Qual ação deseja realizar?\n",
        "Para adicionar um restaurante  --- A\n",
        "Para remover um restaurante    --- R\n",
        "Para editar informações        --- E\"\"\").upper()\n",
        "\n",
        "if comando == \"A\":\n",
        "    lista1 = []\n",
        "    restaurante = input('Digite o nome do restaurante: ')\n",
        "    lista1.append(restaurante)\n",
        "\n",
        "    endereco = input('Digite endereço completo do restaurante: ')\n",
        "    lista1.append(endereco)\n",
        "\n",
        "    telefone = int(input('Digite o telefone do restaurante: '))\n",
        "    lista1.append(telefone)\n",
        "\n",
        "    tempo_preparo_pedido = int(input('Digite tempo de preparo do pedido em minutos: '))\n",
        "    lista1.append(tempo_preparo_pedido)\n",
        "    print(lista1)\n",
        "    lista.append(lista1)\n",
        "    print(lista)\n",
        "\n",
        "# Poderiamos pensar em add uma mensagem de erro caso a pessoa coloque um tel invalido\n",
        "# Mudei o tempo_preparo_pedido para int"
      ],
      "metadata": {
        "id": "oj5n0Q1gIdXG"
      },
      "execution_count": null,
      "outputs": []
    },
    {
      "cell_type": "markdown",
      "source": [
        "-- Teste Editar"
      ],
      "metadata": {
        "id": "bnewEKDRIfoj"
      }
    },
    {
      "cell_type": "code",
      "source": [
        "lista = [['nome1', \"end1\", 'tel1', 'temp1'],['nome2', 'tel2', 'temp2'] ,['nome3', 'tel3', 'temp3'] ]\n",
        "\n",
        "comando = input(\"\"\"Qual ação deseja realizar?\n",
        "Para adicionar um restaurante  --- A\n",
        "Para remover um restaurante    --- R\n",
        "Para editar informações        --- E\"\"\").upper()\n",
        "\n",
        "if comando == 'E':\n",
        "    editar = input('Qual restaurante deseja editar?')\n",
        "\n",
        "    pergunta = input(\"\"\"O que deseja editar?\n",
        "      nome                       --- N\n",
        "      endereço                   --- E\n",
        "      telefone                   --- T\n",
        "      tempo de preparo do pedido --- P\n",
        "                                            \"\"\")\n",
        "    for restaurante in lista:\n",
        "      if restaurante[0] == editar:\n",
        "        if pergunta == \"N\":\n",
        "          nome = input('Qual o novo nome? ')\n",
        "          restaurante[0] = nome\n",
        "          print(lista)\n",
        "\n",
        "        elif pergunta == \"E\":\n",
        "          endereço = input('Qual o novo endereço? ')\n",
        "          restaurante[1] = endereço\n",
        "          print(lista)\n",
        "\n",
        "        elif pergunta == \"T\":\n",
        "          telefone = input('Qual o novo telefone? ')\n",
        "          restaurante[2] = telefone\n",
        "          print(lista)\n",
        "\n",
        "        elif pergunta == \"P\":\n",
        "          tempo = input('Qual o novo tempo de preparo do pedido? ')\n",
        "          restaurante[3] = tempo\n",
        "          print(lista)\n",
        "\n",
        "        else:\n",
        "          print('Função inválida')\n",
        "        pass"
      ],
      "metadata": {
        "id": "_jooS7pWIhx7"
      },
      "execution_count": null,
      "outputs": []
    },
    {
      "cell_type": "markdown",
      "source": [
        "- Função para evitar repetir"
      ],
      "metadata": {
        "id": "yOWQfacfIk9e"
      }
    },
    {
      "cell_type": "code",
      "source": [
        "def evitar_repeticao_restaurante(lista_restaurante, restaurante):\n",
        "  \"\"\"\n",
        "    Verifica se um restaurante já existe em uma lista e retorna True. Caso não\n",
        "    exista retorna False.\n",
        "\n",
        "    Parâmetros:\n",
        "        lista_restaurante(list): A lista de restaurantes a ser verificada.\n",
        "        restaurante(str): O restaurante a ser verificado na lista.\n",
        "    Returns:\n",
        "        bool: Se o restaurante existe retorna True, caso contrário retorna False.\n",
        "\n",
        "  \"\"\"\n",
        "  restaurante_existente = []\n",
        "\n",
        "  for item in lista_restaurante:\n",
        "      if item[0] == restaurante:\n",
        "          restaurante_existente.append(restaurante)\n",
        "\n",
        "  if restaurante in restaurante_existente:\n",
        "    return True\n",
        "  else:\n",
        "    return False"
      ],
      "metadata": {
        "id": "ik_PyQ3tIkgu"
      },
      "execution_count": null,
      "outputs": []
    },
    {
      "cell_type": "markdown",
      "source": [],
      "metadata": {
        "id": "N1Uam4m9IpUx"
      }
    },
    {
      "cell_type": "code",
      "source": [
        "def evitar_repeticao_pratos(lista_cardapio, nome_prato):\n",
        "  \"\"\"\n",
        "    Verifica se o prato já existe na lista de cardapio e retorna True. Caso não\n",
        "    exista retorna False.\n",
        "\n",
        "    Parâmetros:\n",
        "        lista_cardapio(list): A lista itens a ser verificada.\n",
        "        nome_prato(str): O prato a ser verificado na lista.\n",
        "    Returns:\n",
        "        bool: Se o restaurante existe retorna True, caso contrário retorna False.\n",
        "\n",
        "  \"\"\"\n",
        "  prato_existente = []\n",
        "\n",
        "  for item in lista_cardapio:\n",
        "      if item[1] == nome_prato:\n",
        "          prato_existente.append(nome_prato)\n",
        "\n",
        "  if nome_prato in prato_existente:\n",
        "    return True\n",
        "  else:\n",
        "    return False"
      ],
      "metadata": {
        "id": "--H36e64Ipo8"
      },
      "execution_count": null,
      "outputs": []
    },
    {
      "cell_type": "markdown",
      "source": [
        "##Ricardo"
      ],
      "metadata": {
        "id": "P6D9z4UrIr7J"
      }
    },
    {
      "cell_type": "code",
      "source": [
        "lista = [\"Nome\", \"Endereço\", \"Telefone\", \"Tempo de Entrega\"\n",
        "        [\"La Trattoria\", \"Rua da Paz, 123\", \"(55) 1234-5678\", 25],\n",
        "        [\"Sabor Brasileiro\", \"Avenida dos Sabores, 456\", \"(55) 9876-5432\", 35]\n",
        "] # Lista que irá armazenar os dados dos restaurantes (cada restaurante será uma lista)\n",
        "\n",
        "def novo():\n",
        "    lista1 = []\n",
        "    restaurante = input('Digite o nome do restaurante: ')\n",
        "    lista1.append(restaurante)\n",
        "\n",
        "    endereco = input('Digite endereço completo do restaurante: ')\n",
        "    lista1.append(endereco)\n",
        "\n",
        "    telefone = int(input('Digite o telefone do restaurante: '))\n",
        "    lista1.append(telefone)\n",
        "\n",
        "    tempo_preparo_pedido = float(input('Digite tempo de preparo do pedido: '))\n",
        "    lista1.append(tempo_preparo_pedido)\n",
        "    print(lista1)\n",
        "    lista.append(lista1)\n",
        "    print(lista)\n",
        "    pass\n",
        "\n",
        "def remover():\n",
        "    remover = input(\"\"\"Qual restaurante deseja remover?\"\"\")\n",
        "    for restaurante in lista:\n",
        "      if remover == restaurante[0]:\n",
        "        lista.remove(restaurante)\n",
        "    # Para remover o restaurante pensei em fazer um for. Precisaria da lista com os dados para testar\n",
        "    # Testei separado e deu certo, vou colocar em outra célula\n",
        "    pass\n",
        "\n",
        "def editar(lista):\n",
        "\n",
        "  while True:\n",
        "    for i in range(len(lista)):\n",
        "        restaurante = lista[i]\n",
        "\n",
        "        print('-' * 25)  # Linha de separação\n",
        "        print(f\"|{i + 1} - {restaurante[0]} | {restaurante[1]} | {restaurante[2]} | {restaurante[3]} minutos |\")\n",
        "        print('-' * 25, '\\n')  # Adicione uma linha de separação\n",
        "\n",
        "    editar = input('Qual restaurante deseja editar?')\n",
        "\n",
        "    pergunta = input(\"\"\"O que deseja editar?\n",
        "      nome                       --- N\n",
        "      endereço                   --- E\n",
        "      telefone                   --- T\n",
        "      tempo de preparo do pedido --- P\n",
        "                                            \"\"\")\n",
        "    for restaurante in lista:\n",
        "      if restaurante[0] == editar:\n",
        "        if pergunta == \"N\":\n",
        "          nome = input('Qual o novo nome? ')\n",
        "          restaurante[0] = nome\n",
        "          print(lista)\n",
        "\n",
        "        elif pergunta == \"E\":\n",
        "          endereço = input('Qual o novo endereço? ')\n",
        "          restaurante[1] = endereço\n",
        "          print(lista)\n",
        "\n",
        "        elif pergunta == \"T\":\n",
        "          telefone = input('Qual o novo telefone? ')\n",
        "          restaurante[2] = telefone\n",
        "          print(lista)\n",
        "\n",
        "        elif pergunta == \"P\":\n",
        "          tempo = input('Qual o novo tempo de preparo do pedido? ')\n",
        "          restaurante[3] = tempo\n",
        "          print(lista)\n",
        "\n",
        "        else:\n",
        "          print('Função inválida')\n",
        "          pass\n",
        "\n",
        "    else:\n",
        "      print(\"\"\"Comando inválido!\n",
        "      Tente Novamente\"\"\")\n",
        "   # Repetir o comando\n",
        "\n",
        "def gestao_restaurante():\n",
        "\n",
        "  while True:\n",
        "\n",
        "        print(\"[ A ] Novo Restaurante\\n[ R ] Remover Restaurante\\n[ E ] Editar Restaurante\\n[ q ] Sair\")\n",
        "\n",
        "        opcao = input(\"\\nQual a opção desejada? \")\n",
        "\n",
        "        if opcao.upper() == 'A':\n",
        "            novo()\n",
        "        elif opcao.upper() == 'R':\n",
        "            remover()\n",
        "        elif opcao.upper() == 'E':\n",
        "            editar(lista)\n",
        "        elif opcao.lower() == 'q':\n",
        "            print(\"Saindo do sistema.\")\n",
        "            break\n",
        "        else:\n",
        "            print(\"Opção inválida. Tente novamente.\")\n",
        "\n",
        "gestao_restaurante()"
      ],
      "metadata": {
        "id": "ECxsvqdpIt3-"
      },
      "execution_count": null,
      "outputs": []
    },
    {
      "cell_type": "markdown",
      "source": [
        "**LETICIA**"
      ],
      "metadata": {
        "id": "ujjxyM31IyPM"
      }
    }
  ]
}